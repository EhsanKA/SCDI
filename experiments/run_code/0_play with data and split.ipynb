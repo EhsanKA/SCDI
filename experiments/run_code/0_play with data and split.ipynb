{
 "cells": [
  {
   "cell_type": "markdown",
   "metadata": {},
   "source": [
    "# HVG - Split"
   ]
  },
  {
   "cell_type": "code",
   "execution_count": 1,
   "metadata": {},
   "outputs": [
    {
     "name": "stdout",
     "output_type": "stream",
     "text": [
      "before load data\n"
     ]
    }
   ],
   "source": [
    "import scanpy as sc\n",
    "import numpy as np\n",
    "import sys\n",
    "sys.path.append(\"../src_code\") \n",
    "from preprocess_data import _hvg_batch\n",
    "\n",
    "print('before load data')\n",
    "path = \"../data/\"\n",
    "\n"
   ]
  },
  {
   "cell_type": "code",
   "execution_count": 2,
   "metadata": {},
   "outputs": [],
   "source": [
    "adata = sc.read_h5ad(path+'Hpoly_salmonella.h5ad')\n",
    "sc.pp.normalize_total(adata)\n",
    "sc.pp.log1p(adata)"
   ]
  },
  {
   "cell_type": "code",
   "execution_count": 3,
   "metadata": {},
   "outputs": [
    {
     "data": {
      "text/plain": [
       "TA.Early                 1970\n",
       "Stem                     1857\n",
       "Enterocyte.Progenitor    1822\n",
       "Enterocyte               1458\n",
       "TA                       1188\n",
       "Goblet                    758\n",
       "Tuft                      409\n",
       "Endocrine                 380\n",
       "Name: cell_label, dtype: int64"
      ]
     },
     "execution_count": 3,
     "metadata": {},
     "output_type": "execute_result"
    }
   ],
   "source": [
    "condition_key = 'condition'\n",
    "label_key = 'cell_label'\n",
    "adata.obs[label_key].value_counts()"
   ]
  },
  {
   "cell_type": "code",
   "execution_count": 4,
   "metadata": {},
   "outputs": [],
   "source": [
    "# adata = adata[adata.obs[label_key].isin(['CD14 Mono',\n",
    "#                            'CD4 Naive T',\n",
    "#                            'CD4 Memory T',\n",
    "#                            'CD16 Mono',\n",
    "#                            'B',\n",
    "#                            'CD8 T',\n",
    "#                            'T activated',\n",
    "#                            'NK'])]"
   ]
  },
  {
   "cell_type": "code",
   "execution_count": 5,
   "metadata": {},
   "outputs": [
    {
     "data": {
      "text/plain": [
       "TA.Early                 1970\n",
       "Stem                     1857\n",
       "Enterocyte.Progenitor    1822\n",
       "Enterocyte               1458\n",
       "TA                       1188\n",
       "Goblet                    758\n",
       "Tuft                      409\n",
       "Endocrine                 380\n",
       "Name: cell_label, dtype: int64"
      ]
     },
     "execution_count": 5,
     "metadata": {},
     "output_type": "execute_result"
    }
   ],
   "source": [
    "adata.obs[label_key].value_counts()"
   ]
  },
  {
   "cell_type": "code",
   "execution_count": 6,
   "metadata": {},
   "outputs": [],
   "source": [
    "adata.obs[condition_key] = adata.obs[condition_key].astype('category')"
   ]
  },
  {
   "cell_type": "code",
   "execution_count": 7,
   "metadata": {},
   "outputs": [
    {
     "name": "stderr",
     "output_type": "stream",
     "text": [
      "/Users/ekarimi/opt/anaconda3/envs/SCDI/lib/python3.6/site-packages/pandas/core/indexing.py:670: SettingWithCopyWarning: \n",
      "A value is trying to be set on a copy of a slice from a DataFrame\n",
      "\n",
      "See the caveats in the documentation: https://pandas.pydata.org/pandas-docs/stable/user_guide/indexing.html#returning-a-view-versus-a-copy\n",
      "  iloc._setitem_with_indexer(indexer, value)\n"
     ]
    },
    {
     "name": "stdout",
     "output_type": "stream",
     "text": [
      "Using 534 HVGs from full intersect set\n",
      "Using 376 HVGs from n_batch-1 set\n",
      "Using 909 HVGs from n_batch-2 set\n",
      "Using 181 HVGs from n_batch-3 set\n",
      "Using 2000 HVGs\n"
     ]
    }
   ],
   "source": [
    "adata_hvg = _hvg_batch(adata,batch_key=condition_key, target_genes=2000, adataOut=True)"
   ]
  },
  {
   "cell_type": "code",
   "execution_count": 8,
   "metadata": {},
   "outputs": [
    {
     "data": {
      "text/plain": [
       "Control        3240\n",
       "Hpoly.Day10    2711\n",
       "Hpoly.Day3     2121\n",
       "Salmonella     1770\n",
       "Name: condition, dtype: int64"
      ]
     },
     "execution_count": 8,
     "metadata": {},
     "output_type": "execute_result"
    }
   ],
   "source": [
    "adata.obs[condition_key].value_counts()"
   ]
  },
  {
   "cell_type": "code",
   "execution_count": 9,
   "metadata": {},
   "outputs": [],
   "source": [
    "condition_1= 'Control'\n",
    "condition_2= 'Hpoly.Day10'"
   ]
  },
  {
   "cell_type": "code",
   "execution_count": 10,
   "metadata": {},
   "outputs": [],
   "source": [
    "adata1 = adata_hvg[adata_hvg.obs[condition_key]=='Control']"
   ]
  },
  {
   "cell_type": "code",
   "execution_count": 11,
   "metadata": {},
   "outputs": [],
   "source": [
    "adata2 = adata_hvg[adata_hvg.obs[condition_key]=='Hpoly.Day10']"
   ]
  },
  {
   "cell_type": "code",
   "execution_count": 12,
   "metadata": {},
   "outputs": [
    {
     "name": "stderr",
     "output_type": "stream",
     "text": [
      "Trying to set attribute `.obs` of view, copying.\n"
     ]
    }
   ],
   "source": [
    "for i in list(adata1.obs[label_key].values.categories):\n",
    "    adata1.obs[label_key] = adata1.obs[label_key].cat.rename_categories({i: \"_\".join(i.split())+'_1'})"
   ]
  },
  {
   "cell_type": "code",
   "execution_count": 13,
   "metadata": {},
   "outputs": [
    {
     "data": {
      "text/plain": [
       "Index(['Endocrine_1', 'Enterocyte_1', 'Enterocyte.Progenitor_1', 'Goblet_1',\n",
       "       'Stem_1', 'TA_1', 'TA.Early_1', 'Tuft_1'],\n",
       "      dtype='object')"
      ]
     },
     "execution_count": 13,
     "metadata": {},
     "output_type": "execute_result"
    }
   ],
   "source": [
    "adata1.obs[label_key].values.categories"
   ]
  },
  {
   "cell_type": "code",
   "execution_count": 14,
   "metadata": {},
   "outputs": [
    {
     "name": "stderr",
     "output_type": "stream",
     "text": [
      "Trying to set attribute `.obs` of view, copying.\n"
     ]
    }
   ],
   "source": [
    "for i in list(adata2.obs[label_key].values.categories):\n",
    "    adata2.obs[label_key] = adata2.obs[label_key].cat.rename_categories({i: \"_\".join(i.split())+'_2'})"
   ]
  },
  {
   "cell_type": "code",
   "execution_count": 15,
   "metadata": {},
   "outputs": [
    {
     "data": {
      "text/plain": [
       "Index(['Endocrine_2', 'Enterocyte_2', 'Enterocyte.Progenitor_2', 'Goblet_2',\n",
       "       'Stem_2', 'TA_2', 'TA.Early_2', 'Tuft_2'],\n",
       "      dtype='object')"
      ]
     },
     "execution_count": 15,
     "metadata": {},
     "output_type": "execute_result"
    }
   ],
   "source": [
    "adata2.obs[label_key].values.categories"
   ]
  },
  {
   "cell_type": "code",
   "execution_count": 16,
   "metadata": {},
   "outputs": [],
   "source": [
    "new_adata = adata1.concatenate(adata2)"
   ]
  },
  {
   "cell_type": "code",
   "execution_count": 17,
   "metadata": {},
   "outputs": [
    {
     "data": {
      "text/plain": [
       "TA.Early_1                 792\n",
       "Stem_1                     670\n",
       "Stem_2                     592\n",
       "Enterocyte.Progenitor_2    586\n",
       "Enterocyte.Progenitor_1    545\n",
       "TA.Early_2                 436\n",
       "Enterocyte_1               424\n",
       "TA_1                       421\n",
       "TA_2                       353\n",
       "Goblet_2                   317\n",
       "Tuft_2                     217\n",
       "Goblet_1                   216\n",
       "Enterocyte_2               128\n",
       "Endocrine_1                112\n",
       "Endocrine_2                 82\n",
       "Tuft_1                      60\n",
       "Name: cell_label, dtype: int64"
      ]
     },
     "execution_count": 17,
     "metadata": {},
     "output_type": "execute_result"
    }
   ],
   "source": [
    "new_adata.obs[label_key].value_counts()"
   ]
  },
  {
   "cell_type": "code",
   "execution_count": 18,
   "metadata": {},
   "outputs": [
    {
     "name": "stderr",
     "output_type": "stream",
     "text": [
      "... storing 'barcode' as categorical\n",
      "... storing 'condition' as categorical\n",
      "... storing 'cell_label' as categorical\n"
     ]
    }
   ],
   "source": [
    "new_adata.write_h5ad(path+'adata_hvg.h5ad')"
   ]
  },
  {
   "cell_type": "markdown",
   "metadata": {},
   "source": [
    "# Train Test Split"
   ]
  },
  {
   "cell_type": "code",
   "execution_count": 19,
   "metadata": {},
   "outputs": [],
   "source": [
    "from preprocess_data import train_test_split"
   ]
  },
  {
   "cell_type": "code",
   "execution_count": 20,
   "metadata": {},
   "outputs": [],
   "source": [
    "train_adata, test_adata = train_test_split(adata_hvg[adata_hvg.obs[condition_key]==condition_1])"
   ]
  },
  {
   "cell_type": "code",
   "execution_count": 21,
   "metadata": {},
   "outputs": [],
   "source": [
    "train_adata.write_h5ad(path+'train_1.h5ad')"
   ]
  },
  {
   "cell_type": "code",
   "execution_count": 22,
   "metadata": {},
   "outputs": [],
   "source": [
    "test_adata.write_h5ad(path+'test_1.h5ad')"
   ]
  },
  {
   "cell_type": "code",
   "execution_count": null,
   "metadata": {},
   "outputs": [],
   "source": []
  },
  {
   "cell_type": "code",
   "execution_count": 23,
   "metadata": {},
   "outputs": [],
   "source": [
    "train_adata, test_adata = train_test_split(adata_hvg[adata_hvg.obs[condition_key]==condition_2])"
   ]
  },
  {
   "cell_type": "code",
   "execution_count": 24,
   "metadata": {},
   "outputs": [],
   "source": [
    "train_adata.write_h5ad(path+'train_2.h5ad')"
   ]
  },
  {
   "cell_type": "code",
   "execution_count": 25,
   "metadata": {},
   "outputs": [],
   "source": [
    "test_adata.write_h5ad(path+'test_2.h5ad')"
   ]
  },
  {
   "cell_type": "code",
   "execution_count": null,
   "metadata": {},
   "outputs": [],
   "source": []
  },
  {
   "cell_type": "markdown",
   "metadata": {},
   "source": [
    "#### Test the code is working or not"
   ]
  },
  {
   "cell_type": "code",
   "execution_count": 25,
   "metadata": {},
   "outputs": [],
   "source": [
    "# from all_code import MLP, Trainer"
   ]
  },
  {
   "cell_type": "code",
   "execution_count": 26,
   "metadata": {},
   "outputs": [
    {
     "name": "stdout",
     "output_type": "stream",
     "text": [
      "Using device: cpu\n"
     ]
    },
    {
     "data": {
      "text/plain": [
       "MLP(\n",
       "  (FC): Sequential(\n",
       "    (L0): Linear(in_features=4000, out_features=512, bias=False)\n",
       "    (B0): BatchNorm1d(512, eps=1e-05, momentum=0.1, affine=True, track_running_stats=True)\n",
       "    (A0): ReLU()\n",
       "    (D0): Dropout(p=0.0, inplace=False)\n",
       "    (L1): Linear(in_features=512, out_features=128, bias=False)\n",
       "    (B1): BatchNorm1d(128, eps=1e-05, momentum=0.1, affine=True, track_running_stats=True)\n",
       "    (A1): ReLU()\n",
       "    (D1): Dropout(p=0.0, inplace=False)\n",
       "    (L2): Linear(in_features=128, out_features=256, bias=False)\n",
       "    (B2): BatchNorm1d(256, eps=1e-05, momentum=0.1, affine=True, track_running_stats=True)\n",
       "    (A2): ReLU()\n",
       "    (D2): Dropout(p=0.0, inplace=False)\n",
       "    (output): Linear(in_features=256, out_features=8, bias=True)\n",
       "  )\n",
       ")"
      ]
     },
     "execution_count": 26,
     "metadata": {},
     "output_type": "execute_result"
    }
   ],
   "source": [
    "device = torch.device('cuda' if torch.cuda.is_available() else 'cpu')\n",
    "print('Using device:', device)\n",
    "if device.type == 'cuda':\n",
    "    print(torch.cuda.get_device_name(0))\n",
    "    print('Memory Usage:')\n",
    "    print('Allocated:', round(torch.cuda.memory_allocated(0)/1024**3,1), 'GB')\n",
    "    print('Cached:   ', round(torch.cuda.memory_cached(0)/1024**3,1), 'GB')\n",
    "\n",
    "\n",
    "s_x, s_y = 1, 2\n",
    "num_classes = np.unique(train_adata.obs[label_key]).shape[0]\n",
    "\n",
    "model = MLP(train_adata.n_vars, num_classes=num_classes, layer_sizes=[512, 128, 256], dr_rate=0.0)\n",
    "model.to(device)"
   ]
  },
  {
   "cell_type": "code",
   "execution_count": 27,
   "metadata": {},
   "outputs": [],
   "source": [
    "c = train_adata.copy()"
   ]
  },
  {
   "cell_type": "code",
   "execution_count": 28,
   "metadata": {},
   "outputs": [],
   "source": [
    "c.X = c.X.A"
   ]
  },
  {
   "cell_type": "code",
   "execution_count": 29,
   "metadata": {},
   "outputs": [
    {
     "name": "stdout",
     "output_type": "stream",
     "text": [
      "Epoch 00/150 Batch 0143/143, Loss:    0.4924\n",
      "Epoch 01/150 Batch 0143/143, Loss:    0.1741\n",
      "Epoch 02/150 Batch 0143/143, Loss:    0.1045\n",
      "Epoch 03/150 Batch 0143/143, Loss:    0.0796\n",
      "Epoch 04/150 Batch 0143/143, Loss:    0.0285\n",
      "Epoch 05/150 Batch 0143/143, Loss:    0.1066\n",
      "Epoch 05, Loss_valid:    6.5680, acc_valid:    0.9252\n"
     ]
    },
    {
     "ename": "KeyboardInterrupt",
     "evalue": "",
     "output_type": "error",
     "traceback": [
      "\u001b[0;31m---------------------------------------------------------------------------\u001b[0m",
      "\u001b[0;31mKeyboardInterrupt\u001b[0m                         Traceback (most recent call last)",
      "\u001b[0;32m<ipython-input-29-fbc501654d33>\u001b[0m in \u001b[0;36m<module>\u001b[0;34m\u001b[0m\n\u001b[1;32m      1\u001b[0m \u001b[0mtrainer\u001b[0m \u001b[0;34m=\u001b[0m \u001b[0mTrainer\u001b[0m\u001b[0;34m(\u001b[0m\u001b[0mmodel\u001b[0m\u001b[0;34m,\u001b[0m \u001b[0mc\u001b[0m\u001b[0;34m,\u001b[0m \u001b[0mlabel_key\u001b[0m\u001b[0;34m=\u001b[0m\u001b[0mlabel_key\u001b[0m\u001b[0;34m)\u001b[0m\u001b[0;34m\u001b[0m\u001b[0;34m\u001b[0m\u001b[0m\n\u001b[0;32m----> 2\u001b[0;31m \u001b[0mtrainer\u001b[0m\u001b[0;34m.\u001b[0m\u001b[0mtrain_nll\u001b[0m\u001b[0;34m(\u001b[0m \u001b[0;36m150\u001b[0m\u001b[0;34m,\u001b[0m \u001b[0;36m32\u001b[0m\u001b[0;34m,\u001b[0m \u001b[0mweight_decay\u001b[0m\u001b[0;34m=\u001b[0m\u001b[0;36m0\u001b[0m\u001b[0;34m)\u001b[0m\u001b[0;34m\u001b[0m\u001b[0;34m\u001b[0m\u001b[0m\n\u001b[0m",
      "\u001b[0;32m~/ehsan/SCDI/all_code.py\u001b[0m in \u001b[0;36mtrain_nll\u001b[0;34m(self, n_epochs, batch_size, early_patience, weight_decay)\u001b[0m\n\u001b[1;32m    622\u001b[0m                 \u001b[0myhat\u001b[0m \u001b[0;34m=\u001b[0m \u001b[0mself\u001b[0m\u001b[0;34m.\u001b[0m\u001b[0mmodel\u001b[0m\u001b[0;34m(\u001b[0m\u001b[0mx\u001b[0m\u001b[0;34m)\u001b[0m\u001b[0;34m\u001b[0m\u001b[0;34m\u001b[0m\u001b[0m\n\u001b[1;32m    623\u001b[0m                 \u001b[0mloss\u001b[0m \u001b[0;34m=\u001b[0m \u001b[0mmean_nll\u001b[0m\u001b[0;34m(\u001b[0m\u001b[0myhat\u001b[0m\u001b[0;34m,\u001b[0m \u001b[0my\u001b[0m\u001b[0;34m.\u001b[0m\u001b[0mreshape\u001b[0m\u001b[0;34m(\u001b[0m\u001b[0;34m-\u001b[0m\u001b[0;36m1\u001b[0m\u001b[0;34m)\u001b[0m\u001b[0;34m)\u001b[0m\u001b[0;34m\u001b[0m\u001b[0;34m\u001b[0m\u001b[0m\n\u001b[0;32m--> 624\u001b[0;31m                 \u001b[0mloss\u001b[0m\u001b[0;34m.\u001b[0m\u001b[0mbackward\u001b[0m\u001b[0;34m(\u001b[0m\u001b[0;34m)\u001b[0m\u001b[0;34m\u001b[0m\u001b[0;34m\u001b[0m\u001b[0m\n\u001b[0m\u001b[1;32m    625\u001b[0m                 \u001b[0moptimizer\u001b[0m\u001b[0;34m.\u001b[0m\u001b[0mstep\u001b[0m\u001b[0;34m(\u001b[0m\u001b[0;34m)\u001b[0m\u001b[0;34m\u001b[0m\u001b[0;34m\u001b[0m\u001b[0m\n\u001b[1;32m    626\u001b[0m                 \u001b[0mtrain_loss\u001b[0m \u001b[0;34m+=\u001b[0m \u001b[0mloss\u001b[0m\u001b[0;34m\u001b[0m\u001b[0;34m\u001b[0m\u001b[0m\n",
      "\u001b[0;32m~/.conda/envs/scdi/lib/python3.6/site-packages/torch/tensor.py\u001b[0m in \u001b[0;36mbackward\u001b[0;34m(self, gradient, retain_graph, create_graph)\u001b[0m\n\u001b[1;32m    183\u001b[0m                 \u001b[0mproducts\u001b[0m\u001b[0;34m.\u001b[0m \u001b[0mDefaults\u001b[0m \u001b[0mto\u001b[0m\u001b[0;31m \u001b[0m\u001b[0;31m`\u001b[0m\u001b[0;31m`\u001b[0m\u001b[0;32mFalse\u001b[0m\u001b[0;31m`\u001b[0m\u001b[0;31m`\u001b[0m\u001b[0;34m.\u001b[0m\u001b[0;34m\u001b[0m\u001b[0;34m\u001b[0m\u001b[0m\n\u001b[1;32m    184\u001b[0m         \"\"\"\n\u001b[0;32m--> 185\u001b[0;31m         \u001b[0mtorch\u001b[0m\u001b[0;34m.\u001b[0m\u001b[0mautograd\u001b[0m\u001b[0;34m.\u001b[0m\u001b[0mbackward\u001b[0m\u001b[0;34m(\u001b[0m\u001b[0mself\u001b[0m\u001b[0;34m,\u001b[0m \u001b[0mgradient\u001b[0m\u001b[0;34m,\u001b[0m \u001b[0mretain_graph\u001b[0m\u001b[0;34m,\u001b[0m \u001b[0mcreate_graph\u001b[0m\u001b[0;34m)\u001b[0m\u001b[0;34m\u001b[0m\u001b[0;34m\u001b[0m\u001b[0m\n\u001b[0m\u001b[1;32m    186\u001b[0m \u001b[0;34m\u001b[0m\u001b[0m\n\u001b[1;32m    187\u001b[0m     \u001b[0;32mdef\u001b[0m \u001b[0mregister_hook\u001b[0m\u001b[0;34m(\u001b[0m\u001b[0mself\u001b[0m\u001b[0;34m,\u001b[0m \u001b[0mhook\u001b[0m\u001b[0;34m)\u001b[0m\u001b[0;34m:\u001b[0m\u001b[0;34m\u001b[0m\u001b[0;34m\u001b[0m\u001b[0m\n",
      "\u001b[0;32m~/.conda/envs/scdi/lib/python3.6/site-packages/torch/autograd/__init__.py\u001b[0m in \u001b[0;36mbackward\u001b[0;34m(tensors, grad_tensors, retain_graph, create_graph, grad_variables)\u001b[0m\n\u001b[1;32m    125\u001b[0m     Variable._execution_engine.run_backward(\n\u001b[1;32m    126\u001b[0m         \u001b[0mtensors\u001b[0m\u001b[0;34m,\u001b[0m \u001b[0mgrad_tensors\u001b[0m\u001b[0;34m,\u001b[0m \u001b[0mretain_graph\u001b[0m\u001b[0;34m,\u001b[0m \u001b[0mcreate_graph\u001b[0m\u001b[0;34m,\u001b[0m\u001b[0;34m\u001b[0m\u001b[0;34m\u001b[0m\u001b[0m\n\u001b[0;32m--> 127\u001b[0;31m         allow_unreachable=True)  # allow_unreachable flag\n\u001b[0m\u001b[1;32m    128\u001b[0m \u001b[0;34m\u001b[0m\u001b[0m\n\u001b[1;32m    129\u001b[0m \u001b[0;34m\u001b[0m\u001b[0m\n",
      "\u001b[0;31mKeyboardInterrupt\u001b[0m: "
     ]
    }
   ],
   "source": [
    "trainer = Trainer(model, c, label_key=label_key)\n",
    "trainer.train_nll( 150, 32, weight_decay=0)"
   ]
  },
  {
   "cell_type": "code",
   "execution_count": 30,
   "metadata": {},
   "outputs": [
    {
     "name": "stdout",
     "output_type": "stream",
     "text": [
      "******************\n",
      "train on facs\n",
      "              precision    recall  f1-score   support\n",
      "\n",
      "           B       1.00      1.00      1.00       365\n",
      "   CD14 Mono       1.00      1.00      1.00      1475\n",
      "   CD16 Mono       0.99      1.00      0.99       369\n",
      "CD4 Memory T       1.00      1.00      1.00       626\n",
      " CD4 Naive T       1.00      1.00      1.00      1038\n",
      "       CD8 T       1.00      1.00      1.00       314\n",
      "          NK       1.00      1.00      1.00       213\n",
      " T activated       0.99      1.00      1.00       224\n",
      "\n",
      "    accuracy                           1.00      4624\n",
      "   macro avg       1.00      1.00      1.00      4624\n",
      "weighted avg       1.00      1.00      1.00      4624\n",
      "\n",
      "******************\n",
      "validation\n",
      "              precision    recall  f1-score   support\n",
      "\n",
      "           B       0.99      1.00      0.99        85\n",
      "   CD14 Mono       0.99      1.00      0.99       263\n",
      "   CD16 Mono       0.98      0.98      0.98        57\n",
      "CD4 Memory T       0.83      0.89      0.86       108\n",
      " CD4 Naive T       0.93      0.93      0.93       182\n",
      "       CD8 T       0.92      0.67      0.78        49\n",
      "          NK       1.00      0.92      0.96        39\n",
      " T activated       0.74      0.88      0.81        33\n",
      "\n",
      "    accuracy                           0.94       816\n",
      "   macro avg       0.92      0.91      0.91       816\n",
      "weighted avg       0.94      0.94      0.94       816\n",
      "\n"
     ]
    }
   ],
   "source": [
    "\n",
    "#train report\n",
    "from sklearn.metrics import classification_report\n",
    "\n",
    "print(\"******************\")\n",
    "print(\"train on facs\")\n",
    "y_pred = model.label_encoder.inverse_transform(model.predict(trainer.train_adata.X))\n",
    "print(classification_report(np.array(trainer.train_adata.obs[label_key]).reshape(-1,1), y_pred))\n",
    "\n",
    "print(\"******************\")\n",
    "print(\"validation\")\n",
    "y_pred = model.label_encoder.inverse_transform(model.predict(trainer.validation_adata.X))\n",
    "print(classification_report(np.array(trainer.validation_adata.obs[label_key]).reshape(-1,1), y_pred))\n"
   ]
  },
  {
   "cell_type": "code",
   "execution_count": 31,
   "metadata": {},
   "outputs": [
    {
     "name": "stderr",
     "output_type": "stream",
     "text": [
      "/home/karimiara.ce.sharif/.conda/envs/scdi/lib/python3.6/site-packages/anndata/_core/anndata.py:1094: FutureWarning: is_categorical is deprecated and will be removed in a future version.  Use is_categorical_dtype instead\n",
      "  if not is_categorical(df_full[k]):\n"
     ]
    }
   ],
   "source": [
    "ood = adata_hvg[adata_hvg.obs[condition_key]=='CTRL']"
   ]
  },
  {
   "cell_type": "code",
   "execution_count": 32,
   "metadata": {},
   "outputs": [
    {
     "name": "stdout",
     "output_type": "stream",
     "text": [
      "validation\n",
      "              precision    recall  f1-score   support\n",
      "\n",
      "           B       0.98      0.98      0.98       407\n",
      "   CD14 Mono       1.00      0.97      0.98      2215\n",
      "   CD16 Mono       0.93      0.96      0.95       507\n",
      "CD4 Memory T       0.76      0.92      0.83       859\n",
      " CD4 Naive T       0.95      0.81      0.88       978\n",
      "       CD8 T       0.86      0.69      0.77       352\n",
      "          NK       0.95      0.93      0.94       298\n",
      " T activated       0.72      0.97      0.83       300\n",
      "\n",
      "    accuracy                           0.92      5916\n",
      "   macro avg       0.90      0.90      0.89      5916\n",
      "weighted avg       0.92      0.92      0.92      5916\n",
      "\n"
     ]
    }
   ],
   "source": [
    "print(\"validation\")\n",
    "d = ood.copy()\n",
    "d.X =d.X.A\n",
    "y_pred = model.label_encoder.inverse_transform(model.predict(d.X))\n",
    "print(classification_report(np.array(d.obs[label_key]).reshape(-1,1), y_pred))\n"
   ]
  }
 ],
 "metadata": {
  "kernelspec": {
   "display_name": "Python 3",
   "language": "python",
   "name": "python3"
  },
  "language_info": {
   "codemirror_mode": {
    "name": "ipython",
    "version": 3
   },
   "file_extension": ".py",
   "mimetype": "text/x-python",
   "name": "python",
   "nbconvert_exporter": "python",
   "pygments_lexer": "ipython3",
   "version": "3.6.13"
  }
 },
 "nbformat": 4,
 "nbformat_minor": 4
}
